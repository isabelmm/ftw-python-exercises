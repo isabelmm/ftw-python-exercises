{
 "cells": [
  {
   "cell_type": "code",
   "execution_count": 8,
   "metadata": {},
   "outputs": [
    {
     "name": "stdout",
     "output_type": "stream",
     "text": [
      "Twinkle : 4\n",
      "twinkle : 4\n",
      "little : 4\n",
      "star : 3\n",
      "How : 3\n",
      "I : 3\n",
      "wonder : 3\n",
      "what : 3\n",
      "you : 4\n",
      "are : 3\n",
      "Up : 1\n",
      "above : 1\n",
      "the : 4\n",
      "world : 1\n",
      "so : 1\n",
      "high : 1\n",
      "Like : 1\n",
      "a : 1\n",
      "diamond : 1\n",
      "in : 1\n",
      "sky : 1\n",
      "When : 2\n",
      "blazing : 1\n",
      "sun : 1\n",
      "is : 1\n",
      "gone : 1\n",
      "he : 1\n",
      "nothing : 1\n",
      "shines : 1\n",
      "upon : 1\n",
      "Then : 1\n",
      "show : 1\n",
      "your : 1\n",
      "light : 1\n",
      "all : 1\n",
      "night : 1\n",
      " : 1\n"
     ]
    }
   ],
   "source": [
    "import re\n",
    "string = \"\"\"Twinkle, twinkle, little star\n",
    "How I wonder what you are\n",
    "Up above the world so high\n",
    "Like a diamond in the sky\n",
    "Twinkle, twinkle little star\n",
    "How I wonder what you are\n",
    "\n",
    "When the blazing sun is gone\n",
    "When he nothing shines upon\n",
    "Then you show your little light\n",
    "Twinkle, twinkle, all the night\n",
    "Twinkle, twinkle, little star\n",
    "How I wonder what you are\n",
    "\"\"\"\n",
    "splitted_string = re.split('\\W+', string)\n",
    "\n",
    "\n",
    "count = {}\n",
    "for w in splitted_string :\n",
    "    if w in count:\n",
    "        count[w] += 1\n",
    "    else:\n",
    "        count[w] = 1\n",
    "for word, times in count.items():\n",
    "    print(\"{} : {}\".format(word, times))"
   ]
  },
  {
   "cell_type": "code",
   "execution_count": null,
   "metadata": {},
   "outputs": [],
   "source": []
  },
  {
   "cell_type": "markdown",
   "metadata": {},
   "source": [
    "lkjlkf"
   ]
  }
 ],
 "metadata": {
  "kernelspec": {
   "display_name": "Python 3",
   "language": "python",
   "name": "python3"
  },
  "language_info": {
   "codemirror_mode": {
    "name": "ipython",
    "version": 3
   },
   "file_extension": ".py",
   "mimetype": "text/x-python",
   "name": "python",
   "nbconvert_exporter": "python",
   "pygments_lexer": "ipython3",
   "version": "3.7.3"
  }
 },
 "nbformat": 4,
 "nbformat_minor": 2
}
